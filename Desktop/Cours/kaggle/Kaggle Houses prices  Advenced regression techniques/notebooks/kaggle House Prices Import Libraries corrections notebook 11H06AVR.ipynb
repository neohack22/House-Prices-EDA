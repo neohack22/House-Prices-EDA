{
  "cells": [
    {
      "metadata": {
        "_cell_guid": "b1076dfc-b9ad-4769-8c92-a6c4dae69d19",
        "_uuid": "8f2839f25d086af736a60e9eeb907d3b93b6e0e5",
        "collapsed": true,
        "trusted": false
      },
      "cell_type": "code",
      "source": "# This Python 3 environment comes with many helpful analytics libraries installed\n# It is defined by the kaggle/python docker image: https://github.com/kaggle/docker-python\n# For example, here's several helpful packages to load in \n\nimport numpy as np # linear algebra\nimport pandas as pd # data processing, CSV file I/O (e.g. pd.read_csv)\n\n# Input data files are available in the \"../input/\" directory.\n# For example, running this (by clicking run or pressing Shift+Enter) will list the files in the input directory\n\nimport os\nprint(os.listdir(\"../input\"))\n\n# Any results you write to the current directory are saved as output.",
      "execution_count": null,
      "outputs": []
    },
    {
      "metadata": {
        "_cell_guid": "79c7e3d0-c299-4dcb-8224-4455121ee9b0",
        "_uuid": "d629ff2d2480ee46fbb7e2d37f6b5fab8052498a",
        "collapsed": true,
        "trusted": false
      },
      "cell_type": "code",
      "source": "%matplotlib inline # sets the backend of matplotlib to the 'inline' backend\n# import numpy as np\n# import pandas as pd \nimport matplotlib.pyplot as plt # matplotlib's plotting framework\nimport scipy.stats as stats\n# probability distributions as well as a growing library of statistical functions\nimport sklearn.linear_model as linear_model\n\"\"\"methods intended for regression in which\nthe target value is expected to be a linear combination of the input variables\"\"\"\nimport seaborn as sns # Visualize A pandas Dataframe\nimport xgboost as xgb\n\"\"\"open-source software library which\nprovides the gradient boosting framework\"\"\"\nfrom sklearn.model_selection import KFold\n\"\"\"Each fold is then used once as a validation while\nthe k - 1 remaining folds form the training set\"\"\"\nfrom IPython.display import HTML, display\n# to consider something as HTML\nfrom sklearn.manifold import TSNE\n# visualize high-dimensional data\nfrom sklearn.cluster import KMeans\n# clusters the data into K number of clusters\nfrom sklearn.decomposition import PCA\n\"\"\"Finding the directions of maximum variance in high-dimensional data and\nproject it onto a smaller dimensional subspace while retaining most of the information\"\"\"\nfrom sklearn.preprocessing import StandardScaler\n\"\"\"Standardize features by removing the mean and scaling to unit variance\"\"\"\n\npd.options.display.max_rows = 1000\npd.options.display.max_columns = 20\n\ntrain = pd.read_csv('../input/train.csv')\ntest = pd.read_csv('../input/train.csv')\n\nquantitative = [f for f in train.columns if train.dtypes[f] != 'object']\nquantitative.remove('SalePrice')\nquantitative.remove('Id')\nqualitative = [f for f in train.columns if train.dtypes[f] == 'object']",
      "execution_count": null,
      "outputs": []
    },
    {
      "metadata": {
        "_cell_guid": "e9d8ba6e-57b6-4e8c-86a7-069916c67edf",
        "_uuid": "aa132a50d2a1890809582a4dc5e6242f68c7de65",
        "collapsed": true,
        "trusted": false
      },
      "cell_type": "code",
      "source": "missing = train.isnull().sum()\nmissing = missing[missing > 0]\nmissing.sort_values(inplace=True)\nmissing.plot.bar()",
      "execution_count": null,
      "outputs": []
    },
    {
      "metadata": {
        "_cell_guid": "4edcc0f2-f7dc-4c10-8737-a06f361f8269",
        "_uuid": "260b46d9b96c65ae38eac509922ea7b472e1ccd1",
        "collapsed": true,
        "trusted": false
      },
      "cell_type": "code",
      "source": "",
      "execution_count": null,
      "outputs": []
    }
  ],
  "metadata": {
    "language_info": {
      "nbconvert_exporter": "python",
      "file_extension": ".py",
      "mimetype": "text/x-python",
      "pygments_lexer": "ipython3",
      "codemirror_mode": {
        "version": 3,
        "name": "ipython"
      },
      "version": "3.6.4",
      "name": "python"
    },
    "kernelspec": {
      "display_name": "Python 3",
      "language": "python",
      "name": "python3"
    }
  },
  "nbformat": 4,
  "nbformat_minor": 1
}